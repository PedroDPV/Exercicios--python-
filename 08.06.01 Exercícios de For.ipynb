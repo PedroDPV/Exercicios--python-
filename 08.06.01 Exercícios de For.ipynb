{
 "cells": [
  {
   "cell_type": "markdown",
   "metadata": {},
   "source": [
    "\n",
    "## 1. Calculando % de uma lista\n"
   ]
  },
  {
   "cell_type": "code",
   "execution_count": 24,
   "metadata": {},
   "outputs": [
    {
     "name": "stdout",
     "output_type": "stream",
     "text": [
      "['João', 'Julia', 'Ana'] foram os funcionários que bateram a meta\n",
      "a quantidade de funcionários que bateram a meta foi de 50%\n"
     ]
    }
   ],
   "source": [
    "meta = 10000\n",
    "vendas = [\n",
    "    ['João', 15000],\n",
    "    ['Julia', 27000],\n",
    "    ['Marcus', 9900],\n",
    "    ['Maria', 3750],\n",
    "    ['Ana', 10300],\n",
    "    ['Alon', 7870],\n",
    "]\n",
    "\n",
    "lista = []\n",
    "lista_2 = []\n",
    "contador = 0\n",
    "\n",
    "\n",
    "for tipo , i in enumerate(vendas) :    \n",
    "    contador += 1    \n",
    "    if i[1] > meta:\n",
    "        lista = i[0]\n",
    "        lista_2.append(lista)\n",
    "        \n",
    "porcentagem = (len(lista_2) / contador) * 100\n",
    "print (f'{lista_2} foram os funcionários que bateram a meta')\n",
    "print (f'a quantidade de funcionários que bateram a meta foi de {porcentagem:.0f}%')"
   ]
  }
 ],
 "metadata": {
  "kernelspec": {
   "display_name": "Python 3 (ipykernel)",
   "language": "python",
   "name": "python3"
  },
  "language_info": {
   "codemirror_mode": {
    "name": "ipython",
    "version": 3
   },
   "file_extension": ".py",
   "mimetype": "text/x-python",
   "name": "python",
   "nbconvert_exporter": "python",
   "pygments_lexer": "ipython3",
   "version": "3.9.7"
  }
 },
 "nbformat": 4,
 "nbformat_minor": 4
}
