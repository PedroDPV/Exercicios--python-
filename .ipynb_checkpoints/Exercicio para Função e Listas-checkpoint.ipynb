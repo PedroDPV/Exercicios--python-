{
 "cells": [
  {
   "cell_type": "code",
   "execution_count": 60,
   "id": "7476720c",
   "metadata": {},
   "outputs": [],
   "source": [
    "\"\"\"Exercicio para Função e Listas:\n",
    "\n",
    "-> Você possui uma lista de listas de números inteiros\n",
    "-> As listas internas tem o tamanho de 10 elementos\n",
    "-> As listas internas contém números entre 1 a 10 e eles podem ser duplicados\n",
    "\n",
    "Exercício:\n",
    "Crie um função que encontra o primeiro número duplicado de uma lista. considerando o segundo numero \n",
    "como a duplicação.\n",
    "Exemplo: [1 , 2, 3 , ->3<- , 2, 1] , no caso de duplicação retorne o primeiro número á ter aparecido\n",
    "duplicado da lista , que nesse caso foi o numero \"3\" obs:o numero 3 de indice [3] e nao o de indice[2]\n",
    "se nao encontrar duplicados na lista , retorne -1\"\"\"\n"
   ]
  },
  {
   "cell_type": "code",
   "execution_count": 122,
   "id": "eb35af2f",
   "metadata": {},
   "outputs": [],
   "source": [
    "lista_de_listas_de_inteiros = [\n",
    "    [1,2,3,4,5,6,7,8,9,10],\n",
    "    [9,1,8,9,9,7,2,1,6,8],\n",
    "    [1,3,2,2,8,6,5,9,6,7],\n",
    "    [3,8,2,8,6,7,7,3,1,9],\n",
    "    [4,8,8,8,5,1,10,3,1,7],\n",
    "    [1,3,7,2,2,1,5,1,9,9],\n",
    "    [10,2,2,1,3,5,10,5,10,1],\n",
    "    [1,6,1,5,1,1,1,4,7,3],\n",
    "    [1,3,7,1,10,5,9,2,5,7],\n",
    "    [4,7,6,5,2,9,2,1,2,1],\n",
    "    [5,3,1,8,5,7,1,8,8,7],\n",
    "    [10,9,8,7,6,5,4,3,2,1],  \n",
    "]\n",
    "\n",
    "def primeiro_numero_duplicado(sua_lista):    \n",
    "    lista_com_primeiros = []\n",
    "    lista_com_segundos = []\n",
    "    lista_total = []    \n",
    "    for indice , i  in enumerate(sua_lista):\n",
    "        for indice2 , i2 in enumerate(i):        \n",
    "            if i2 in sua_lista[indice] and i2 not in lista_com_primeiros:\n",
    "                lista_com_primeiros.append(i2)\n",
    "            elif i2 in sua_lista[indice] and i2 not in lista_com_segundos:\n",
    "                lista_com_segundos.append(i2)\n",
    "        if len(lista_com_segundos) == 0:        \n",
    "            print ('-1')\n",
    "        else:       \n",
    "            print (f'o primeiro número duplicado é {lista_com_segundos[0]}')            \n",
    "        lista_com_primeiros = [] \n",
    "        lista_com_segundos = []\n",
    "        "
   ]
  },
  {
   "cell_type": "code",
   "execution_count": 123,
   "id": "3ec8e87e",
   "metadata": {},
   "outputs": [
    {
     "name": "stdout",
     "output_type": "stream",
     "text": [
      "-1\n",
      "o primeiro número duplicado é 9\n",
      "o primeiro número duplicado é 2\n",
      "o primeiro número duplicado é 8\n",
      "o primeiro número duplicado é 8\n",
      "o primeiro número duplicado é 2\n",
      "o primeiro número duplicado é 2\n",
      "o primeiro número duplicado é 1\n",
      "o primeiro número duplicado é 1\n",
      "o primeiro número duplicado é 2\n",
      "o primeiro número duplicado é 5\n",
      "-1\n"
     ]
    }
   ],
   "source": [
    "primeiro_numero_duplicado(lista_de_listas_de_inteiros)"
   ]
  }
 ],
 "metadata": {
  "kernelspec": {
   "display_name": "Python 3 (ipykernel)",
   "language": "python",
   "name": "python3"
  },
  "language_info": {
   "codemirror_mode": {
    "name": "ipython",
    "version": 3
   },
   "file_extension": ".py",
   "mimetype": "text/x-python",
   "name": "python",
   "nbconvert_exporter": "python",
   "pygments_lexer": "ipython3",
   "version": "3.9.7"
  }
 },
 "nbformat": 4,
 "nbformat_minor": 5
}
