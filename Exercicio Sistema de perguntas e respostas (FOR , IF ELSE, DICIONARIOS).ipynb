{
 "cells": [
  {
   "cell_type": "code",
   "execution_count": 152,
   "id": "5846793a",
   "metadata": {},
   "outputs": [
    {
     "name": "stdout",
     "output_type": "stream",
     "text": [
      "quanto é 2+2?\n",
      "[a]:1\n",
      "[b]:4\n",
      "[c]:5\n",
      "Qual a sua resposta?:b\n",
      "Parabens!! você acertou\n",
      "\n",
      "quanto é 10+10?\n",
      "[a]:5\n",
      "[b]:40\n",
      "[c]:20\n",
      "Qual a sua resposta?:c\n",
      "Parabens!! você acertou\n",
      "\n",
      "quanto é 5x5?\n",
      "[a]:25\n",
      "[b]:15\n",
      "[c]:50\n",
      "Qual a sua resposta?:c\n",
      "Que pena =( resposta incorreta\n",
      "\n"
     ]
    }
   ],
   "source": [
    "\"SISTEMA DE PERGUNTAS E RESPOSTAS , COM LAÇO FOR, IF ELSE, E DICIONÁRIOS\"\n",
    "\n",
    "perguntas = {'Pergunta1' : {'pergunta':'quanto é 2+2?','respostas':{'a':'1','b':'4','c':'5'},'resposta certa':'b'},\n",
    "            \n",
    "            'Pergunta2' : {'pergunta':'quanto é 10+10?','respostas':{'a':'5','b':'40','c':'20'},'resposta certa':'c'},\n",
    "            \n",
    "            'Pergunta3' : {'pergunta':'quanto é 5x5?','respostas':{'a':'25','b':'15','c':'50'},'resposta certa':'a'},\n",
    "                       \n",
    "            }\n",
    "\n",
    "\n",
    "\n",
    "for c , v in perguntas.items():\n",
    "    print(v['pergunta'])\n",
    "    for a , b in v['respostas'].items():\n",
    "        print(f'[{a}]:{b}')\n",
    "\n",
    "    resposta_recebida = input('Qual a sua resposta?:')\n",
    "    if resposta_recebida == (v['resposta certa']):\n",
    "        print('Parabens!! você acertou')\n",
    "        print ()\n",
    "    else:        \n",
    "        print('Que pena =( resposta incorreta')\n",
    "        print ()\n",
    "        \n",
    "\n"
   ]
  }
 ],
 "metadata": {
  "kernelspec": {
   "display_name": "Python 3 (ipykernel)",
   "language": "python",
   "name": "python3"
  },
  "language_info": {
   "codemirror_mode": {
    "name": "ipython",
    "version": 3
   },
   "file_extension": ".py",
   "mimetype": "text/x-python",
   "name": "python",
   "nbconvert_exporter": "python",
   "pygments_lexer": "ipython3",
   "version": "3.9.7"
  }
 },
 "nbformat": 4,
 "nbformat_minor": 5
}
