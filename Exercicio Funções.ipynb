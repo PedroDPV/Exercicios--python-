{
 "cells": [
  {
   "cell_type": "code",
   "execution_count": null,
   "id": "6292cae0",
   "metadata": {},
   "outputs": [],
   "source": [
    "\n",
    "Faça um programa que converta da notação de 24 horas para a notação de 12 horas. Por exemplo, o programa deve converter 14:25 em 2:25 P.M. A entrada é dada em dois inteiros. Deve haver pelo menos duas funções: uma para fazer a conversão e uma para a saída. Registre a informação A.M./P.M. como um valor ‘A’ para A.M. e ‘P’ para P.M. Assim, a função para efetuar as conversões terá um parâmetro formal para registrar se é A.M. ou P.M. Inclua um loop que permita que o usuário repita esse cálculo para novos valores de entrada todas as vezes que desejar.\n",
    "Faça um programa que use a função valorPagamento para determinar o valor a ser pago por uma prestação de uma conta. O programa deverá solicitar ao usuário o valor da prestação e o número de dias em atraso e passar estes valores para a função valorPagamento, que calculará o valor a ser pago e devolverá este valor ao programa que a chamou. O programa deverá então exibir o valor a ser pago na tela. Após a execução o programa deverá voltar a pedir outro valor de prestação e assim continuar até que seja informado um valor igual a zero para a prestação. Neste momento o programa deverá ser encerrado, exibindo o relatório do dia, que conterá a quantidade e o valor total de prestações pagas no dia. O cálculo do valor a ser pago é feito da seguinte forma. Para pagamentos sem atraso, cobrar o valor da prestação. Quando houver atraso, cobrar 3% de multa, mais 0,1% de juros por dia de atraso.\n",
    "Faça uma função que informe a quantidade de dígitos de um determinado número inteiro informado.\n",
    "Reverso do número. Faça uma função que retorne o reverso de um número inteiro informado. Por exemplo: 127 -> 721.\n",
    "\n",
    "Jogo de Craps. Faça um programa de implemente um jogo de Craps. O jogador lança um par de dados, obtendo um valor entre 2 e 12. Se, na primeira jogada, você tirar 7 ou 11, você um \"natural\" e ganhou. Se você tirar 2, 3 ou 12 na primeira jogada, isto é chamado de \"craps\" e você perdeu. Se, na primeira jogada, você fez um 4, 5, 6, 8, 9 ou 10,este é seu \"Ponto\". Seu objetivo agora é continuar jogando os dados até tirar este número novamente. Você perde, no entanto, se tirar um 7 antes de tirar este Ponto novamente.\n",
    "\n",
    "Data com mês por extenso. Construa uma função que receba uma data no formato DD/MM/AAAA e devolva uma string no formato D de mesPorExtenso de AAAA. Opcionalmente, valide a data e retorne NULL caso a data seja inválida.\n",
    "\n",
    "Embaralha palavra. Construa uma função que receba uma string como parâmetro e devolva outra string com os carateres embaralhados. Por exemplo: se função receber a palavra python, pode retornar npthyo, ophtyn ou qualquer outra combinação possível, de forma aleatória. Padronize em sua função que todos os caracteres serão devolvidos em caixa alta ou caixa baixa, independentemente de como foram digitados.\n",
    "\n",
    "Desenha moldura. Construa uma função que desenhe um retângulo usando os caracteres ‘+’ , ‘−’ e ‘| ‘. Esta função deve receber dois parâmetros, linhas e colunas, sendo que o valor por omissão é o valor mínimo igual a 1 e o valor máximo é 20. Se valores fora da faixa forem informados, eles devem ser modificados para valores dentro da faixa de forma elegante.\n",
    "\n",
    "Quadrado mágico. Um quadrado mágico é aquele dividido em linhas e colunas, com um número em cada posição e no qual a soma das linhas, colunas e diagonais é a mesma. Por exemplo, veja um quadrado mágico de lado 3, com números de 1 a 9:\n",
    "\n",
    "8  3  4 \n",
    "1  5  9\n",
    "6  7  2\n",
    "Elabore uma função que identifica e mostra na tela todos os quadrados mágicos com as características acima. Dica: produza todas as combinações possíveis e verifique a soma quando completar cada quadrado. Usar um vetor de 1 a 9 parece ser mais simples que usar uma matriz 3x3.\n"
   ]
  },
  {
   "cell_type": "code",
   "execution_count": 47,
   "id": "3a0ffaa2",
   "metadata": {},
   "outputs": [
    {
     "name": "stdout",
     "output_type": "stream",
     "text": [
      "Você deseja realizar a conversão de horários? \"sim\" ou \"não\"sim\n",
      "Informe a hora:19\n",
      "Informe os minutos:33\n",
      "0 0\n"
     ]
    }
   ],
   "source": [
    "#Faça um programa que converta da notação de 24 horas para a notação de 12 horas.\n",
    "#Por exemplo, o programa deve converter 14:25 em 2:25 P.M. A entrada é dada em dois inteiros. \n",
    "#Deve haver pelo menos duas funções: uma para fazer a conversão e uma para a saída. \n",
    "#Registre a informação A.M./P.M. como um valor ‘A’ para A.M. e ‘P’ para P.M. Assim,\n",
    "#a função para efetuar as conversões terá um parâmetro formal para registrar se é A.M. ou P.M. \n",
    "#Inclua um loop que permita que o usuário repita esse cálculo para novos valores de entrada \n",
    "#todas as vezes que desejar.\n",
    "\n",
    "\n",
    "def conversor(hora,minutos): \n",
    "    if hora > 12:\n",
    "        hora = hora - 12\n",
    "        return (f'{hora}:{minutos}PM')\n",
    "    else:\n",
    "        return (f'{hora}:{minutos}AM')\n",
    "    \n",
    "def saida():    \n",
    "    pergunta = input('Você deseja realizar a conversão de horários? \"sim\" ou \"não\"')\n",
    "    pergunta = pergunta.lower()\n",
    "    a = input('Informe a hora:')\n",
    "    a = int(a)\n",
    "    b = input('Informe os minutos:')\n",
    "    b = int(b)\n",
    "    return(a,b)\n",
    "    conversor()\n",
    "    return(a,b)\n",
    "\n",
    "\n",
    "saida()\n",
    "print(a,b)"
   ]
  },
  {
   "cell_type": "code",
   "execution_count": 14,
   "id": "58a61197",
   "metadata": {},
   "outputs": [
    {
     "data": {
      "text/plain": [
       "'o preço atualizado do item é  de R$150.0'"
      ]
     },
     "execution_count": 14,
     "metadata": {},
     "output_type": "execute_result"
    }
   ],
   "source": [
    "#Faça um programa com uma função chamada somaImposto. A função possui dois parâmetros formais: \n",
    "#taxaImposto, que é a quantia de imposto sobre vendas expressa em porcentagem e custo, que é o custo de\n",
    "#um item antes do imposto. A função “altera” o valor de custo para incluir o imposto sobre vendas.\n",
    "\n",
    "def somaImposto(taxaImposto,custo):\n",
    "    taxaImposto = taxaImposto / 100\n",
    "    preço_atualizado = (custo * taxaImposto) + custo\n",
    "    return (f'o preço atualizado do item é  de R${preço_atualizado}')\n",
    "\n",
    "somaImposto(50,100)    "
   ]
  },
  {
   "cell_type": "code",
   "execution_count": 13,
   "id": "57257d75",
   "metadata": {},
   "outputs": [
    {
     "data": {
      "text/plain": [
       "'P'"
      ]
     },
     "execution_count": 13,
     "metadata": {},
     "output_type": "execute_result"
    }
   ],
   "source": [
    "#Faça um programa, com uma função que necessite de um argumento. \n",
    "#A função retorna o valor de caractere ‘P’, se seu argumento for positivo, \n",
    "#e ‘N’, se seu argumento for zero ou negativo.\n",
    "\n",
    "def umarg(a):\n",
    "    if a > 0:\n",
    "        return ('P')\n",
    "    else:\n",
    "        return('N')\n",
    "        \n",
    "umarg(-35)        \n",
    "umarg(10)"
   ]
  },
  {
   "cell_type": "code",
   "execution_count": 7,
   "id": "65d9e29b",
   "metadata": {},
   "outputs": [
    {
     "data": {
      "text/plain": [
       "10"
      ]
     },
     "execution_count": 7,
     "metadata": {},
     "output_type": "execute_result"
    }
   ],
   "source": [
    "#Faça um programa, com uma função que necessite de três argumentos,\n",
    "#e que forneça a soma desses três argumentos.\n",
    "\n",
    "def soma_3arg(a,b,c):\n",
    "    return a + b + c \n",
    "\n",
    "soma_3arg(3,3,4)"
   ]
  }
 ],
 "metadata": {
  "kernelspec": {
   "display_name": "Python 3 (ipykernel)",
   "language": "python",
   "name": "python3"
  },
  "language_info": {
   "codemirror_mode": {
    "name": "ipython",
    "version": 3
   },
   "file_extension": ".py",
   "mimetype": "text/x-python",
   "name": "python",
   "nbconvert_exporter": "python",
   "pygments_lexer": "ipython3",
   "version": "3.9.7"
  }
 },
 "nbformat": 4,
 "nbformat_minor": 5
}
