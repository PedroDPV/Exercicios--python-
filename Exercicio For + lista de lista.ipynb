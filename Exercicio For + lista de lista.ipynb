{
 "cells": [
  {
   "cell_type": "code",
   "execution_count": 1,
   "id": "2bae8a2f",
   "metadata": {},
   "outputs": [
    {
     "name": "stdout",
     "output_type": "stream",
     "text": [
      "Qual o total de hóspedes nesse quarto?2\n",
      "Digite o nome do Primeiro hóspede:pedro\n",
      "Digite o cpf do Primeiro hóspede:8317238123\n",
      "Digite o nome do Segundo hóspede:mayana\n",
      "Digite o cpf do Segundo hóspede:08760678067\n"
     ]
    }
   ],
   "source": [
    "qtdpessoas = input('Qual o total de hóspedes nesse quarto?')\n",
    "qtdpessoas = int(qtdpessoas)\n",
    "quarto1 = [[],[]]\n",
    "\n",
    "for v in range(qtdpessoas):\n",
    "    if v == 1:\n",
    "        quarto1[0][0] = input('Digite o nome do Primeiro hóspede:')\n",
    "        quarto1[0][1] = input('Digite o cpf do Primeiro hóspede:')\n",
    "        \n",
    "else:\n",
    "    \n",
    "    nome2 = input('Digite o nome do Segundo hóspede:')\n",
    "    quarto1[0][1] = input('Digite o cpf do Segundo hóspede:')\n",
    "   \n",
    "    \n",
    "\n",
    "    "
   ]
  },
  {
   "cell_type": "code",
   "execution_count": 7,
   "id": "991d60e9",
   "metadata": {},
   "outputs": [
    {
     "name": "stdout",
     "output_type": "stream",
     "text": [
      "[['pedro', 'mayana'], [8317238123, 8760678067]]\n"
     ]
    }
   ],
   "source": [
    "cpfs = [cpf1,cpf2]\n",
    "nomes = [nome1,nome2]\n",
    "quarto1 = [[],[]]\n",
    "        \n",
    "print (quarto1)\n",
    "    "
   ]
  }
 ],
 "metadata": {
  "kernelspec": {
   "display_name": "Python 3 (ipykernel)",
   "language": "python",
   "name": "python3"
  },
  "language_info": {
   "codemirror_mode": {
    "name": "ipython",
    "version": 3
   },
   "file_extension": ".py",
   "mimetype": "text/x-python",
   "name": "python",
   "nbconvert_exporter": "python",
   "pygments_lexer": "ipython3",
   "version": "3.9.7"
  }
 },
 "nbformat": 4,
 "nbformat_minor": 5
}
