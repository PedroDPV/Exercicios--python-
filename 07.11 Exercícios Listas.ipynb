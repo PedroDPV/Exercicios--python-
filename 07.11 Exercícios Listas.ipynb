{
 "cells": [
  {
   "cell_type": "markdown",
   "metadata": {},
   "source": [
    "## 1. Mudança de Carga Tributária\n"
   ]
  },
  {
   "cell_type": "code",
   "execution_count": 12,
   "metadata": {},
   "outputs": [],
   "source": [
    "produtos = ['computador', 'livro', 'tablet', 'celular', 'tv', 'ar condicionado', 'alexa', 'máquina de café', 'kindle']\n",
    "\n",
    "#cada item da lista dos produtos corresponde a quantidade de vendas no mês e preço, nessa ordem\n",
    "produtos_ecommerce = [\n",
    "    [10000, 2500],\n",
    "    [50000, 40],\n",
    "    [7000, 1200],\n",
    "    [20000, 1500],\n",
    "    [5800, 1300],\n",
    "    [7200, 2500],\n",
    "    [200, 800],\n",
    "    [3300, 700],\n",
    "    [1900, 400]\n",
    "]"
   ]
  },
  {
   "cell_type": "code",
   "execution_count": 96,
   "metadata": {},
   "outputs": [
    {
     "name": "stdout",
     "output_type": "stream",
     "text": [
      "o novo preço do item livro agora é de R$44.0\n",
      "o impacto do imposto no preço de custo é de R$200,000.0\n"
     ]
    }
   ],
   "source": [
    "contador = 0\n",
    "novo_valor = 0 \n",
    "impacto_custo = 0\n",
    "\n",
    "\n",
    "if \"livro\" in produtos:\n",
    "    indicelivro = produtos.index('livro')\n",
    "    quantidadelivros = produtos_ecommerce[indicelivro][0]   \n",
    "    \n",
    "    for n in produtos_ecommerce[1]:\n",
    "        contador += 1\n",
    "        if contador == 2:                \n",
    "                novo_valor += n * 0.1 + n\n",
    "                print (f'o novo preço do item livro agora é de R${novo_valor}')\n",
    "                diferença = (novo_valor - n)\n",
    "    print (f'o impacto do imposto no preço de custo é de R${diferença*quantidadelivros:,}')\n",
    "else:\n",
    "    \n",
    "     print ('não há produtos á terem o preço alterado pelo novo imposto')\n",
    "\n",
    "\n",
    "\n",
    "        \n",
    "        \n",
    "     \n"
   ]
  }
 ],
 "metadata": {
  "kernelspec": {
   "display_name": "Python 3 (ipykernel)",
   "language": "python",
   "name": "python3"
  },
  "language_info": {
   "codemirror_mode": {
    "name": "ipython",
    "version": 3
   },
   "file_extension": ".py",
   "mimetype": "text/x-python",
   "name": "python",
   "nbconvert_exporter": "python",
   "pygments_lexer": "ipython3",
   "version": "3.9.7"
  }
 },
 "nbformat": 4,
 "nbformat_minor": 4
}
