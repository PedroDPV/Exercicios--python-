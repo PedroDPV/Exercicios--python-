{
 "cells": [
  {
   "cell_type": "markdown",
   "metadata": {},
   "source": [
    "## 1. Criando um Registro de Hóspedes"
   ]
  },
  {
   "cell_type": "raw",
   "metadata": {},
   "source": [
    "quarto = [\n",
    "    ['João', 'cpf:00000000000'],\n",
    "    ['Julia', 'cpf:11111111111'],\n",
    "    ['Marcus', 'cpf:22222222222'],\n",
    "    ['Maria', 'cpf:33333333333'],\n",
    "]"
   ]
  },
  {
   "cell_type": "code",
   "execution_count": 15,
   "metadata": {},
   "outputs": [
    {
     "name": "stdout",
     "output_type": "stream",
     "text": [
      "Informe quantos hóspedes estarão no quarto:2\n",
      "Digite o nome do Hóspede:pedro\n",
      "Digite o cpf do hóspede:312312312\n",
      "Digite o nome do Hóspede:mayana\n",
      "Digite o cpf do hóspede:65464564\n",
      "[['pedro', 'cpf:312312312'], ['mayana', 'cpf:65464564']]\n"
     ]
    }
   ],
   "source": [
    "quarto = []\n",
    "\n",
    "qtdpessoas = input('Informe quantos hóspedes estarão no quarto:')\n",
    "qtdpessoas = int(qtdpessoas)\n",
    "\n",
    "for pessoa in range(qtdpessoas):\n",
    "    nome = input('Digite o nome do Hóspede:')    \n",
    "    cpf = input('Digite o cpf do hóspede:')\n",
    "    hospede = [nome,'cpf:'+ cpf]\n",
    "    quarto.append(hospede)\n",
    "    \n",
    "    \n",
    "print(quarto)"
   ]
  },
  {
   "cell_type": "markdown",
   "metadata": {},
   "source": [
    "## 2. Análise de Vendas\n"
   ]
  },
  {
   "cell_type": "code",
   "execution_count": 52,
   "metadata": {},
   "outputs": [
    {
     "name": "stdout",
     "output_type": "stream",
     "text": [
      "o funcinário João bateu a meta e sua venda foi de R$15000 \n",
      "o funcinário Julia bateu a meta e sua venda foi de R$27000 \n"
     ]
    }
   ],
   "source": [
    "meta = 10000\n",
    "vendas = [\n",
    "    ['João', 15000],\n",
    "    ['Julia', 27000],\n",
    "    ['Marcus', 9900],\n",
    "    ['Maria', 3750],\n",
    "    ['Ana', 10300],\n",
    "    ['Alon', 7870],\n",
    "]\n",
    "vendasf = []\n",
    "#seu código aqui vendas[contador][1]\n",
    "contador = 0\n",
    "funcionário = []\n",
    "for i in vendas:\n",
    "    if vendas[contador][1] > 10000:\n",
    "        print(f'o funcinário {vendas[contador][0]} bateu a meta e sua venda foi de R${vendas[contador][1]} ')\n",
    "        funcionário.append(vendas[contador][0])\n",
    "        vendasf.append(vendas[contador][1])\n",
    "        \n",
    "        contador += 1\n",
    "        \n",
    "      "
   ]
  },
  {
   "cell_type": "markdown",
   "metadata": {},
   "source": [
    "## 3. Comparação de vendas com o Ano Anterior"
   ]
  },
  {
   "cell_type": "code",
   "execution_count": 5,
   "metadata": {},
   "outputs": [
    {
     "name": "stdout",
     "output_type": "stream",
     "text": [
      "[' o produto iphone vendeu R$951,642, teve um crescimento de 70.5% em relação ao ano passado']\n",
      "[' o produto tv vendeu R$787,604, teve um crescimento de 94.3% em relação ao ano passado']\n",
      "[' o produto máquina de café vendeu R$867,660, teve um crescimento de 20.7% em relação ao ano passado']\n",
      "[' o produto notebook dell vendeu R$694,913, teve um crescimento de 64.4% em relação ao ano passado']\n",
      "[' o produto notebook hp vendeu R$539,704, teve um crescimento de 248.8% em relação ao ano passado']\n",
      "[' o produto microsoft surface vendeu R$667,179, teve um crescimento de 52.1% em relação ao ano passado']\n",
      "[' o produto webcam vendeu R$295,633, teve um crescimento de 24.5% em relação ao ano passado']\n",
      "[' o produto caixa de som vendeu R$725,316, teve um crescimento de 48.1% em relação ao ano passado']\n",
      "[' o produto microfone vendeu R$644,622, teve um crescimento de 96.3% em relação ao ano passado']\n",
      "[' o produto câmera canon vendeu R$994,303, teve um crescimento de 68.2% em relação ao ano passado']\n"
     ]
    }
   ],
   "source": [
    "produtos = ['iphone', 'galaxy', 'ipad', 'tv', 'máquina de café', 'kindle', 'geladeira', 'adega', 'notebook dell', 'notebook hp', 'notebook asus', 'microsoft surface', 'webcam', 'caixa de som', 'microfone', 'câmera canon']\n",
    "vendas2019 = [558147,712350,573823,405252,718654,531580,973139,892292,422760,154753,887061,438508,237467,489705,328311,591120]\n",
    "vendas2020 = [951642,244295,26964,787604,867660,78830,710331,646016,694913,539704,324831,667179,295633,725316,644622,994303]\n",
    "#seu código aqui\n",
    "venderam_mais = []    \n",
    "comparação = []\n",
    "porcentagem = 0\n",
    "\n",
    "\n",
    "for i, valores in enumerate(vendas2020):\n",
    "    if vendas2020[i] > vendas2019[i]:\n",
    "        porcentagem = vendas2020[i] / vendas2019[i] - 1\n",
    "        comparação = [f' o produto {produtos[i]} vendeu R${vendas2020[i]:,}, teve um crescimento de {porcentagem:.1%} em relação ao ano passado']\n",
    "        venderam_mais.append(comparação)\n",
    "        print(comparação)\n"
   ]
  }
 ],
 "metadata": {
  "kernelspec": {
   "display_name": "Python 3 (ipykernel)",
   "language": "python",
   "name": "python3"
  },
  "language_info": {
   "codemirror_mode": {
    "name": "ipython",
    "version": 3
   },
   "file_extension": ".py",
   "mimetype": "text/x-python",
   "name": "python",
   "nbconvert_exporter": "python",
   "pygments_lexer": "ipython3",
   "version": "3.9.7"
  }
 },
 "nbformat": 4,
 "nbformat_minor": 4
}
