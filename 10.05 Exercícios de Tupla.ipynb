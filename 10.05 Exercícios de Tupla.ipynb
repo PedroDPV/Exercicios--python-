{
 "cells": [
  {
   "cell_type": "markdown",
   "metadata": {},
   "source": [
    "## 1. Análise de Vendas\n",
    "\n",
    "\"análise simples\" de atingimento de Meta.\n",
    "\n",
    "Temos uma lista com os vendedores e os valores de vendas e queremos identificar (printar) quais os vendedores que bateram a meta e qual foi o valor que eles venderam."
   ]
  },
  {
   "cell_type": "code",
   "execution_count": 7,
   "metadata": {},
   "outputs": [
    {
     "name": "stdout",
     "output_type": "stream",
     "text": [
      "o trabalhador João, atingiu a meta e vendeu 15,000 unidades\n",
      "o trabalhador Julia, atingiu a meta e vendeu 27,000 unidades\n",
      "o trabalhador Ana, atingiu a meta e vendeu 10,300 unidades\n"
     ]
    }
   ],
   "source": [
    "meta = 10000\n",
    "vendas = [\n",
    "    ('João', 15000),\n",
    "    ('Julia', 27000),\n",
    "    ('Marcus', 9900),\n",
    "    ('Maria', 3750),\n",
    "    ('Ana', 10300),\n",
    "    ('Alon', 7870),\n",
    "]\n",
    "\n",
    "\n",
    "\n",
    "for trabalhador , venda in vendas:\n",
    "    if venda > meta:\n",
    "        print(f'o trabalhador {trabalhador}, atingiu a meta e vendeu {venda:,} unidades')"
   ]
  },
  {
   "cell_type": "markdown",
   "metadata": {},
   "source": [
    "## 2. Comparação com Ano Anterior\n",
    "\n",
    "Digamos que você está analisando as vendas de produtos de um ecommerce e quer identificar quais produtos tiveram no ano de 2020 mais vendas do que no ano de 2019, para reportar isso para a diretoria.\n"
   ]
  },
  {
   "cell_type": "code",
   "execution_count": 8,
   "metadata": {},
   "outputs": [
    {
     "name": "stdout",
     "output_type": "stream",
     "text": [
      "o produto iphone vendeu R$558147 em 2019 e R$951642 em 2020 , obtendo um crescimento de 70.5%\n",
      "o produto tv vendeu R$405252 em 2019 e R$787604 em 2020 , obtendo um crescimento de 94.3%\n",
      "o produto máquina de café vendeu R$718654 em 2019 e R$867660 em 2020 , obtendo um crescimento de 20.7%\n",
      "o produto notebook dell vendeu R$422760 em 2019 e R$694913 em 2020 , obtendo um crescimento de 64.4%\n",
      "o produto notebook hp vendeu R$154753 em 2019 e R$539704 em 2020 , obtendo um crescimento de 248.8%\n",
      "o produto microsoft surface vendeu R$438508 em 2019 e R$667179 em 2020 , obtendo um crescimento de 52.1%\n",
      "o produto webcam vendeu R$237467 em 2019 e R$295633 em 2020 , obtendo um crescimento de 24.5%\n",
      "o produto caixa de som vendeu R$489705 em 2019 e R$725316 em 2020 , obtendo um crescimento de 48.1%\n",
      "o produto microfone vendeu R$328311 em 2019 e R$644622 em 2020 , obtendo um crescimento de 96.3%\n",
      "o produto câmera canon vendeu R$591120 em 2019 e R$994303 em 2020 , obtendo um crescimento de 68.2%\n"
     ]
    }
   ],
   "source": [
    "vendas_produtos = [('iphone', 558147, 951642), ('galaxy', 712350, 244295), ('ipad', 573823, 26964), ('tv', 405252, 787604), ('máquina de café', 718654, 867660), ('kindle', 531580, 78830), ('geladeira', 973139, 710331), ('adega', 892292, 646016), ('notebook dell', 422760, 694913), ('notebook hp', 154753, 539704), ('notebook asus', 887061, 324831), ('microsoft surface', 438508, 667179), ('webcam', 237467, 295633), ('caixa de som', 489705, 725316), ('microfone', 328311, 644622), ('câmera canon', 591120, 994303)]\n",
    "\n",
    "#seu código aqui\n",
    "\n",
    "for produto , vendas_2019 , vendas_2020 in vendas_produtos:\n",
    "    if vendas_2020 > vendas_2019:        \n",
    "        print (f'o produto {produto} vendeu R${vendas_2019} em 2019 e R${vendas_2020} em 2020 , obtendo um crescimento de {vendas_2020/vendas_2019 - 1:.1%}')"
   ]
  }
 ],
 "metadata": {
  "kernelspec": {
   "display_name": "Python 3 (ipykernel)",
   "language": "python",
   "name": "python3"
  },
  "language_info": {
   "codemirror_mode": {
    "name": "ipython",
    "version": 3
   },
   "file_extension": ".py",
   "mimetype": "text/x-python",
   "name": "python",
   "nbconvert_exporter": "python",
   "pygments_lexer": "ipython3",
   "version": "3.9.7"
  }
 },
 "nbformat": 4,
 "nbformat_minor": 4
}
