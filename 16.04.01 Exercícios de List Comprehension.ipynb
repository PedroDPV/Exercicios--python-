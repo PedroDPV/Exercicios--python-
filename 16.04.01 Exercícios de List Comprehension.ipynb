{
 "cells": [
  {
   "cell_type": "markdown",
   "metadata": {},
   "source": [
    "# Exercícios\n",
    "\n",
    "## 1. Tamanho do Pedido de Compras\n",
    "\n",
    "Nesse exercício vamos avaliar o estoque de uma empresa. Vamos considerar que todos os produtos dessa empresa são comprados em lotes de 500 unidades.\n",
    "\n",
    "- Caso o estoque esteja abaixo de 1000 unidades, devemos fazer um pedido de 500 unidades.\n",
    "- Caso o estoque esteja abaixo de 200 unidades, devemos fazer um pedido de 1000 unidades.\n",
    "\n",
    "Defina o valor a ser pedido de cada produto para enviar ao time de compras."
   ]
  },
  {
   "cell_type": "code",
   "execution_count": 30,
   "metadata": {},
   "outputs": [],
   "source": [
    "estoque = [('BSA2199',396),('PPF5239',251),('BSA1212',989),('PPF2154',449),('BEB3410',241),('PPF8999',527),('EMB9591',601),('BSA2006',314),('EMB3604',469),('EMB2070',733),('PPF9018',339),('PPF1468',906),('BSA5819',291),('PPF8666',850),('BEB2983',353),('BEB5877',456),('PPF5008',963),('PPF3877',185),('PPF7321',163),('BSA8833',644),('PPF4980',421),('PPF3063',757),('BSA2089',271),('BSA8398',180),('EMB4622',515),('EMB9814',563),('PPF3784',229),('PPF2398',270),('BEB3211',181),('PPF8655',459),('PPF1874',799),('PPF8789',126),('PPF6324',375),('EMB9290',883),('BSA5516',555),('BSA8451',243),('BSA8213',423)]"
   ]
  },
  {
   "cell_type": "code",
   "execution_count": 29,
   "metadata": {},
   "outputs": [
    {
     "name": "stdout",
     "output_type": "stream",
     "text": [
      "[(1000, 'PPF9018'), (1000, 'PPF8789'), (1000, 'PPF8655'), (1000, 'PPF7321'), (1000, 'PPF6324'), (1000, 'PPF5239'), (1000, 'PPF4980'), (1000, 'PPF3877'), (1000, 'PPF3784'), (1000, 'PPF2398'), (1000, 'PPF2154'), (1000, 'EMB3604'), (1000, 'BSA8451'), (1000, 'BSA8398'), (1000, 'BSA8213'), (1000, 'BSA5819'), (1000, 'BSA2199'), (1000, 'BSA2089'), (1000, 'BSA2006'), (1000, 'BEB5877'), (1000, 'BEB3410'), (1000, 'BEB3211'), (1000, 'BEB2983'), (500, 'PPF8999'), (500, 'PPF8666'), (500, 'PPF5008'), (500, 'PPF3063'), (500, 'PPF1874'), (500, 'PPF1468'), (500, 'EMB9814'), (500, 'EMB9591'), (500, 'EMB9290'), (500, 'EMB4622'), (500, 'EMB2070'), (500, 'BSA8833'), (500, 'BSA5516'), (500, 'BSA1212')]\n"
     ]
    }
   ],
   "source": [
    "# FAZENDO COM LAÇO FOR\n",
    "produto_compra = []\n",
    "qtd_compra = []\n",
    "\n",
    "for i in estoque:\n",
    "    if i[1] < 500:\n",
    "        produto_compra.append(i[0])\n",
    "        qtd_compra.append(1000)\n",
    "    elif i[1] < 1000:\n",
    "        produto_compra.append(i[0])\n",
    "        qtd_compra.append(500)\n",
    "    else:\n",
    "        produto_compra.append(i[0])\n",
    "        qtd_compra.append('este produto não precisa de reposição de estoque')\n",
    "\n",
    "#print (produto_compra)        \n",
    "#print (qtd_compra)\n",
    "\n",
    "pedido_compra = list(zip(qtd_compra , produto_compra))\n",
    "pedido_compra.sort(reverse=True)\n",
    "print(pedido_compra)"
   ]
  },
  {
   "cell_type": "code",
   "execution_count": 31,
   "metadata": {},
   "outputs": [
    {
     "name": "stdout",
     "output_type": "stream",
     "text": [
      "('BSA2199', 'comprar 1000 unidades')\n",
      "('PPF5239', 'comprar 1000 unidades')\n",
      "('BSA1212', 'comprar 500 unidades')\n",
      "('PPF2154', 'comprar 1000 unidades')\n",
      "('BEB3410', 'comprar 1000 unidades')\n",
      "('PPF8999', 'comprar 500 unidades')\n",
      "('EMB9591', 'comprar 500 unidades')\n",
      "('BSA2006', 'comprar 1000 unidades')\n",
      "('EMB3604', 'comprar 1000 unidades')\n",
      "('EMB2070', 'comprar 500 unidades')\n",
      "('PPF9018', 'comprar 1000 unidades')\n",
      "('PPF1468', 'comprar 500 unidades')\n",
      "('BSA5819', 'comprar 1000 unidades')\n",
      "('PPF8666', 'comprar 500 unidades')\n",
      "('BEB2983', 'comprar 1000 unidades')\n",
      "('BEB5877', 'comprar 1000 unidades')\n",
      "('PPF5008', 'comprar 500 unidades')\n",
      "('PPF3877', 'comprar 1000 unidades')\n",
      "('PPF7321', 'comprar 1000 unidades')\n",
      "('BSA8833', 'comprar 500 unidades')\n",
      "('PPF4980', 'comprar 1000 unidades')\n",
      "('PPF3063', 'comprar 500 unidades')\n",
      "('BSA2089', 'comprar 1000 unidades')\n",
      "('BSA8398', 'comprar 1000 unidades')\n",
      "('EMB4622', 'comprar 500 unidades')\n",
      "('EMB9814', 'comprar 500 unidades')\n",
      "('PPF3784', 'comprar 1000 unidades')\n",
      "('PPF2398', 'comprar 1000 unidades')\n",
      "('BEB3211', 'comprar 1000 unidades')\n",
      "('PPF8655', 'comprar 1000 unidades')\n",
      "('PPF1874', 'comprar 500 unidades')\n",
      "('PPF8789', 'comprar 1000 unidades')\n",
      "('PPF6324', 'comprar 1000 unidades')\n",
      "('EMB9290', 'comprar 500 unidades')\n",
      "('BSA5516', 'comprar 500 unidades')\n",
      "('BSA8451', 'comprar 1000 unidades')\n",
      "('BSA8213', 'comprar 1000 unidades')\n"
     ]
    }
   ],
   "source": [
    "#FAZENDO COM LIST COMPREHENSION\n",
    "\n",
    "pedido_compra = [(item, 'comprar 1000 unidades') if valor < 500 else (item ,'comprar 500 unidades') for item , valor in estoque]\n",
    "for i in pedido_compra:\n",
    "    print(i)"
   ]
  }
 ],
 "metadata": {
  "kernelspec": {
   "display_name": "Python 3 (ipykernel)",
   "language": "python",
   "name": "python3"
  },
  "language_info": {
   "codemirror_mode": {
    "name": "ipython",
    "version": 3
   },
   "file_extension": ".py",
   "mimetype": "text/x-python",
   "name": "python",
   "nbconvert_exporter": "python",
   "pygments_lexer": "ipython3",
   "version": "3.9.7"
  }
 },
 "nbformat": 4,
 "nbformat_minor": 4
}
