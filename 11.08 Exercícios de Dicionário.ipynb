{
 "cells": [
  {
   "cell_type": "markdown",
   "metadata": {},
   "source": [
    "## 1. Exercício \"menos prático\" para treinar manipulação de dicionário\n"
   ]
  },
  {
   "cell_type": "raw",
   "metadata": {},
   "source": [
    "dicionario = {\n",
    "    produto: [vendas2019, vendas2020],\n",
    "    produto2: [vendas2019, vendas2020],\n",
    "    produto3: [vendas2019, vendas2020],\n",
    "    ...\n",
    "}"
   ]
  },
  {
   "cell_type": "code",
   "execution_count": 58,
   "metadata": {},
   "outputs": [
    {
     "name": "stdout",
     "output_type": "stream",
     "text": [
      "foram vendidas 1,509,789 unidades de iphone\n",
      "foram vendidas 956,645 unidades de galaxy\n",
      "foram vendidas 600,787 unidades de ipad\n",
      "foram vendidas 1,192,856 unidades de tv\n",
      "foram vendidas 1,586,314 unidades de máquina de café\n",
      "foram vendidas 610,410 unidades de kindle\n",
      "foram vendidas 1,683,470 unidades de geladeira\n",
      "foram vendidas 1,538,308 unidades de adega\n",
      "foram vendidas 1,117,673 unidades de notebook dell\n",
      "foram vendidas 694,457 unidades de notebook hp\n",
      "foram vendidas 1,211,892 unidades de notebook asus\n",
      "foram vendidas 1,105,687 unidades de microsoft surface\n",
      "foram vendidas 533,100 unidades de webcam\n",
      "foram vendidas 1,215,021 unidades de caixa de som\n",
      "foram vendidas 972,933 unidades de microfone\n",
      "foram vendidas 1,585,423 unidades de câmera canon\n"
     ]
    }
   ],
   "source": [
    "produtos = ['iphone', 'galaxy', 'ipad', 'tv', 'máquina de café', 'kindle', 'geladeira', 'adega', 'notebook dell', 'notebook hp', 'notebook asus', 'microsoft surface', 'webcam', 'caixa de som', 'microfone', 'câmera canon']\n",
    "vendas2019 = [558147,712350,573823,405252,718654,531580,973139,892292,422760,154753,887061,438508,237467,489705,328311,591120]\n",
    "vendas2020 = [951642,244295,26964,787604,867660,78830,710331,646016,694913,539704,324831,667179,295633,725316,644622,994303]\n",
    "\n",
    "#seu código aqui\n",
    "\n",
    "lista_vendas = zip(vendas2019 , vendas2020)\n",
    "nova_lista = zip(produtos , lista_vendas)\n",
    "dicionario = dict(nova_lista)\n",
    "\n",
    "\n",
    "for item  in dicionario:\n",
    "    unidades = sum(dicionario[item])\n",
    "    print(f'foram vendidas {unidades:,} unidades de {item}')\n",
    "\n",
    "\n",
    "\n",
    "\n",
    "\n"
   ]
  }
 ],
 "metadata": {
  "kernelspec": {
   "display_name": "Python 3 (ipykernel)",
   "language": "python",
   "name": "python3"
  },
  "language_info": {
   "codemirror_mode": {
    "name": "ipython",
    "version": 3
   },
   "file_extension": ".py",
   "mimetype": "text/x-python",
   "name": "python",
   "nbconvert_exporter": "python",
   "pygments_lexer": "ipython3",
   "version": "3.9.7"
  }
 },
 "nbformat": 4,
 "nbformat_minor": 4
}
