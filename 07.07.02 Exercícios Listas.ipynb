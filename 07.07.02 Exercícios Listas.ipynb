{
 "cells": [
  {
   "cell_type": "markdown",
   "metadata": {},
   "source": [
    "\n",
    "\n",
    "## 1. Faturamento do Melhor e do Pior Mês do Ano\n",
    "\n",
    "Qual foi o valor de vendas do melhor mês do Ano?\n",
    "E valor do pior mês do ano?"
   ]
  },
  {
   "cell_type": "code",
   "execution_count": 3,
   "metadata": {},
   "outputs": [
    {
     "name": "stdout",
     "output_type": "stream",
     "text": [
      "[25000, 29000, 22200, 17750, 15870, 19900, 19850, 20120, 17540, 15555, 49051, 9650]\n",
      " o maior valor de venda no ano foi de 49051 reais , o menor valor foi de 9650\n"
     ]
    }
   ],
   "source": [
    "meses = ['jan', 'fev', 'mar', 'abr', 'mai', 'jun', 'jul', 'ago', 'set', 'out', 'nov', 'dez']\n",
    "vendas_1sem = [25000, 29000, 22200, 17750, 15870, 19900]\n",
    "vendas_2sem = [19850, 20120, 17540, 15555, 49051, 9650]\n",
    "\n",
    "faturamento = vendas_1sem + vendas_2sem\n",
    "\n",
    "print (faturamento)\n",
    "\n",
    "maior_venda = max(faturamento)\n",
    "menor_venda = min(faturamento)\n",
    "\n",
    "print (f' o maior valor de venda no ano foi de {maior_venda} reais , o menor valor foi de {menor_venda}')\n",
    "\n"
   ]
  },
  {
   "cell_type": "markdown",
   "metadata": {},
   "source": [
    "## 2. Soma direta de valores de uma lista\n"
   ]
  },
  {
   "cell_type": "code",
   "execution_count": 4,
   "metadata": {},
   "outputs": [
    {
     "name": "stdout",
     "output_type": "stream",
     "text": [
      "261486\n"
     ]
    }
   ],
   "source": [
    "faturamento_anual = sum(faturamento) \n",
    "  \n",
    "print(faturamento_anual)"
   ]
  },
  {
   "cell_type": "markdown",
   "metadata": {},
   "source": [
    "## 3. Criar uma lista com o top 3 valores de vendas do ano "
   ]
  },
  {
   "cell_type": "code",
   "execution_count": 5,
   "metadata": {},
   "outputs": [
    {
     "name": "stdout",
     "output_type": "stream",
     "text": [
      "os três maiores valores de vendas no ano foram de [49051, 29000, 25000]\n"
     ]
    }
   ],
   "source": [
    "faturamento = vendas_1sem + vendas_2sem\n",
    "top3 = []\n",
    "\n",
    "top_1 = max(faturamento)\n",
    "faturamento.index(49051)\n",
    "top_1 = faturamento.pop(10)\n",
    "top_2 = max(faturamento)\n",
    "faturamento.index(29000)\n",
    "top_2 = faturamento.pop(1)\n",
    "top_3 = max(faturamento)\n",
    "faturamento.index(25000)\n",
    "top_3 = faturamento.pop(0)\n",
    "top3 = [top_1,top_2,top_3]\n",
    "\n",
    "print (f'os três maiores valores de vendas no ano foram de {top3}')\n",
    "\n",
    "\n",
    "\n",
    "\n",
    "\n"
   ]
  }
 ],
 "metadata": {
  "kernelspec": {
   "display_name": "Python 3 (ipykernel)",
   "language": "python",
   "name": "python3"
  },
  "language_info": {
   "codemirror_mode": {
    "name": "ipython",
    "version": 3
   },
   "file_extension": ".py",
   "mimetype": "text/x-python",
   "name": "python",
   "nbconvert_exporter": "python",
   "pygments_lexer": "ipython3",
   "version": "3.9.7"
  }
 },
 "nbformat": 4,
 "nbformat_minor": 4
}
